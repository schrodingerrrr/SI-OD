{
 "cells": [
  {
   "cell_type": "markdown",
   "id": "accessible-confusion",
   "metadata": {},
   "source": [
    "# Контрольные задачи по дисциплине СиАОД №1\n"
   ]
  },
  {
   "cell_type": "markdown",
   "id": "inclusive-karma",
   "metadata": {},
   "source": [
    "## Выполнил студент группы БВТ1905 Максимов Данила Васильевич"
   ]
  },
  {
   "cell_type": "markdown",
   "id": "substantial-shipping",
   "metadata": {},
   "source": [
    "### Задача №1"
   ]
  },
  {
   "cell_type": "markdown",
   "id": "split-broadway",
   "metadata": {},
   "source": [
    "Массив A состоит из целых положительных чисел ­ длин отрезков. Составьте из трех отрезков такой треугольник, чтобы его периметр был максимально возможным. Если невозможно\n",
    "составить треугольник с положительной площадью ­ функция возвращает 0."
   ]
  },
  {
   "cell_type": "code",
   "execution_count": null,
   "id": "consecutive-intensity",
   "metadata": {},
   "outputs": [],
   "source": [
    "def triangle(data):\n",
    "    data.sort(reverse=True)\n",
    "    for i in range(0, len(data) - 2):\n",
    "        sides = [data[i], data[i + 1], data[i + 2]]\n",
    "        if sides[1] + sides[2] > sides[0]:\n",
    "            return sum(sides)\n",
    "    return 0\n",
    "\n",
    "\n",
    "data = list(map(lambda x: int(x), input(\"Введите длины отрезков через пробел: \").split(\" \")))\n",
    "print(triangle(data))"
   ]
  },
  {
   "cell_type": "markdown",
   "id": "lightweight-classics",
   "metadata": {},
   "source": [
    "### Задача №2"
   ]
  },
  {
   "cell_type": "markdown",
   "id": "lightweight-secret",
   "metadata": {},
   "source": [
    "Дан массив неотрицательных целых чисел nums. Расположите их в таком порядке, чтобы\n",
    "вместе они образовали максимально возможное число."
   ]
  },
  {
   "cell_type": "code",
   "execution_count": null,
   "id": "rocky-dream",
   "metadata": {},
   "outputs": [],
   "source": [
    "def not_zero(array):\n",
    "    for char in array:\n",
    "        if char != 0:\n",
    "            return True\n",
    "    return False\n",
    "\n",
    "def compare(i, j):\n",
    "    s1 = str(i)\n",
    "    s2 = str(j)\n",
    "    if int(s1 + s2) > int(s2 + s1):\n",
    "        return 1\n",
    "    else:\n",
    "        return -1\n",
    "\n",
    "numbers = list(map(int, input(\"Введите числа через пробел: \").split(\" \")))\n",
    "if not_zero(numbers):\n",
    "    for i in range(len(numbers)):\n",
    "        for j in range(len(numbers) - 1, i, -1):\n",
    "            if (compare(numbers[i], numbers[j]) != 1):\n",
    "                numbers[i], numbers[j] = numbers[j], numbers[i]\n",
    "\n",
    "    result = \"\"\n",
    "    for i in numbers:\n",
    "        result = result + str(i)\n",
    "\n",
    "    print(\"Самое большое число, которое может получиться:\", result)\n",
    "else:\n",
    "    print(\"Самое большое число, которое может получиться: 0\")\n",
    "© 2021 GitHub, Inc."
   ]
  },
  {
   "cell_type": "markdown",
   "id": "wireless-profile",
   "metadata": {},
   "source": [
    "### Задача №3"
   ]
  },
  {
   "cell_type": "markdown",
   "id": "unusual-vienna",
   "metadata": {},
   "source": [
    "Дана матрица mat размером m * n, значения ­ целочисленные. Напишите функцию, сортирующую каждую диагональ матрицы по возрастанию и возвращающую получившуюся матрицу."
   ]
  },
  {
   "cell_type": "code",
   "execution_count": null,
   "id": "australian-manhattan",
   "metadata": {},
   "outputs": [],
   "source": [
    "def get_list_of_diagonal_elements(matrix, start_line, start_row):\n",
    "    x, y = start_row, start_line\n",
    "    lst = [[matrix[y][x], y, x]]\n",
    "    while x + 1 < rows and y + 1 < lines:\n",
    "        x += 1\n",
    "        y += 1\n",
    "        lst.append([matrix[y][x], y, x])\n",
    "    return lst\n",
    "\n",
    "lines = int(input(\"Введите количество строк в матрице: \"))\n",
    "rows = int(input(\"Введите количество столбцов в матрице: \"))\n",
    "matrix = []\n",
    "print(\"Заполните матрицу\")\n",
    "for i in range(lines):\n",
    "    matrix.append([])\n",
    "    print(\"{} строка\".format(i))\n",
    "    for j in range(rows):\n",
    "        matrix[i].append(int(input(\"{} столбец: \".format(j))))\n",
    "print(\"Ваша матрица: \")\n",
    "for line in matrix:\n",
    "    print(line)\n",
    "# Сортировка по 1 столбцу\n",
    "for i in range(lines):\n",
    "    lst = get_list_of_diagonal_elements(matrix, i, 0)\n",
    "    values = []\n",
    "    for j in range(len(lst)):\n",
    "        values.append(lst[j][0])\n",
    "    values.sort()\n",
    "    y = i\n",
    "    x = 0\n",
    "    k = 0\n",
    "    while x + 1 < rows and y + 1 < lines:\n",
    "        matrix[y][x] = values[k]\n",
    "        x += 1\n",
    "        y += 1\n",
    "        k += 1\n",
    "    matrix[y][x] = values[k]\n",
    "# Сортировка по 1 строке\n",
    "for i in range(rows):\n",
    "    lst = get_list_of_diagonal_elements(matrix, 0, i)\n",
    "    values = []\n",
    "    for j in range(len(lst)):\n",
    "        values.append(lst[j][0])\n",
    "    values.sort()\n",
    "    y = 0\n",
    "    x = i\n",
    "    k = 0\n",
    "    while x + 1 < rows and y + 1 < lines:\n",
    "        matrix[y][x] = values[k]\n",
    "        x += 1\n",
    "        y += 1\n",
    "        k += 1\n",
    "    matrix[y][x] = values[k]\n",
    "\n",
    "\n",
    "print(\"Результирующая матрица:\")\n",
    "for line in matrix:\n",
    "    print(line)"
   ]
  }
 ],
 "metadata": {
  "kernelspec": {
   "display_name": "Python 3",
   "language": "python",
   "name": "python3"
  },
  "language_info": {
   "codemirror_mode": {
    "name": "ipython",
    "version": 3
   },
   "file_extension": ".py",
   "mimetype": "text/x-python",
   "name": "python",
   "nbconvert_exporter": "python",
   "pygments_lexer": "ipython3",
   "version": "3.6.13"
  }
 },
 "nbformat": 4,
 "nbformat_minor": 5
}
