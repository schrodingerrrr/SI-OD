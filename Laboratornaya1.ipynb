{
 "cells": [
  {
   "cell_type": "markdown",
   "metadata": {},
   "source": [
    "# Лабораторная работа №1\n",
    "## Выполнил студент группы БВТ1905 Максимов Данила Васильевич\n",
    "### Задание №1\n",
    "Вывести на экран Hello, World!"
   ]
  },
  {
   "cell_type": "code",
   "execution_count": 28,
   "metadata": {},
   "outputs": [
    {
     "name": "stdout",
     "output_type": "stream",
     "text": [
      "Hello, World!\n"
     ]
    }
   ],
   "source": [
    "print(\"Hello, World!\")"
   ]
  },
  {
   "cell_type": "markdown",
   "metadata": {},
   "source": [
    "### Задание №2 \n",
    "Написать генератор случайных матриц(многомерных), который принимает опциональные параметры m, n, min_limit, max_limit, где m и n указывают размер матрицы, а min_lim и max_lim - минимальное и максимальное значение для генерируемого числа . По умолчанию при отсутствии параметров принимать следующие значения: m = 50 n = 50 min_limit = -250 max_limit = 1000 + (номер своего варианта)"
   ]
  },
  {
   "cell_type": "code",
   "execution_count": 20,
   "metadata": {},
   "outputs": [],
   "source": [
    "import random\n",
    "def generator(m = 50, n = 50, min_limit = -250, max_limit = 1011):\n",
    "    matrix = []\n",
    "    for i in range(m):\n",
    "        matrix.append([])\n",
    "        for j in range(n):\n",
    "            matrix[i].append(random.randint(min_limit, max_limit + 1))\n",
    "    return matrix"
   ]
  },
  {
   "cell_type": "markdown",
   "metadata": {},
   "source": [
    "### Задание №3\n",
    "Реализовать методы сортировки строк числовой матрицы в соответствии с заданием. Оценить время работы каждого алгоритма сортировки и сравнить его со временем стандартной функции сортировки. Испытания проводить на сгенерированных матрицах. Методы: 1) выбором 2) вставкой 3) обменом 4) Шелла 5) турнирная 6) быстрая сортировка 7) пирамидальная"
   ]
  },
  {
   "cell_type": "code",
   "execution_count": 21,
   "metadata": {},
   "outputs": [
    {
     "name": "stdout",
     "output_type": "stream",
     "text": [
      "Время сортировки выбором:  0.5559921264648438\n"
     ]
    }
   ],
   "source": [
    "import time\n",
    "n_matrix = generator()\n",
    "start = time.time()\n",
    "def selection_sort(matrix):\n",
    "    for i in range(len(matrix)):\n",
    "        number_of_min = i\n",
    "        for j in range(i, len(matrix)):\n",
    "            if matrix[j] < matrix[number_of_min]:\n",
    "                number_of_min = j\n",
    "        matrix[i], matrix[number_of_min] = matrix[number_of_min], matrix[i]\n",
    "    print(\"Время сортировки выбором: \", (time.time() - start)*1000)\n",
    "selection_sort(n_matrix)"
   ]
  },
  {
   "cell_type": "code",
   "execution_count": 22,
   "metadata": {},
   "outputs": [
    {
     "name": "stdout",
     "output_type": "stream",
     "text": [
      "Время работы сортировки вставкой:  0.31757354736328125\n"
     ]
    }
   ],
   "source": [
    "import time\n",
    "n_matrix = generator()\n",
    "start = time.time()\n",
    "def insertion_sort(matrix):\n",
    "    for i in range(len(matrix) - 1):\n",
    "        number = i\n",
    "        while number > 0 and matrix[number - 1] > matrix[i]:\n",
    "            matrix[number] = matrix[number - 1]\n",
    "            number -= 1\n",
    "    print(\"Время работы сортировки вставкой: \", (time.time() - start)*1000)\n",
    "insertion_sort(n_matrix)"
   ]
  },
  {
   "cell_type": "code",
   "execution_count": 23,
   "metadata": {},
   "outputs": [
    {
     "name": "stdout",
     "output_type": "stream",
     "text": [
      "Время работы сортировки обменом:  0.5915164947509766\n"
     ]
    }
   ],
   "source": [
    "import time\n",
    "n_matrix = generator()\n",
    "start = time.time()\n",
    "def bubble_sort(matrix):\n",
    "    for i in range(len(matrix) - 1):\n",
    "        for j in range(i):\n",
    "            if matrix[j] > matrix[j + 1]:\n",
    "                matrix[j], matrix[j + 1] = matrix[j + 1], matrix[j]\n",
    "    print(\"Время работы сортировки обменом: \", (time.time() - start)*1000)\n",
    "bubble_sort(n_matrix)"
   ]
  },
  {
   "cell_type": "code",
   "execution_count": 24,
   "metadata": {},
   "outputs": [
    {
     "name": "stdout",
     "output_type": "stream",
     "text": [
      "Время работы сортировки Шелла:  0.3876686096191406\n"
     ]
    }
   ],
   "source": [
    "import time\n",
    "n_matrix = generator()\n",
    "start = time.time()\n",
    "def shell_sort(matrix):\n",
    "    distance = len(matrix) // 2\n",
    "    while distance > 0:\n",
    "        for i in range(len(matrix) - distance):\n",
    "            if matrix[i] > matrix[i + distance]:\n",
    "                matrix[i], matrix[i + distance] = matrix[i + distance], matrix[i]\n",
    "        distance //= 2\n",
    "    print(\"Время работы сортировки Шелла: \", (time.time() - start)*1000)\n",
    "shell_sort(n_matrix)"
   ]
  },
  {
   "cell_type": "code",
   "execution_count": 25,
   "metadata": {},
   "outputs": [
    {
     "name": "stdout",
     "output_type": "stream",
     "text": [
      "Время работы турнирной сортировки:  0.8280277252197266\n"
     ]
    }
   ],
   "source": [
    "import time\n",
    "n_matrix = generator()\n",
    "start = time.time()\n",
    "def heapify(matrix, lenght, index):\n",
    "        maximum = index\n",
    "        left = 2 * index\n",
    "        right = 2 * index + 1\n",
    "        if left < lenght and matrix[maximum] < matrix[left]:\n",
    "            maximum = left\n",
    "        if right < lenght and matrix[maximum] < matrix[right]:\n",
    "            maximum = right\n",
    "        if maximum != index:\n",
    "            matrix[index], matrix[maximum] = matrix[maximum], matrix[index]\n",
    "            heapify(matrix, lenght, maximum)\n",
    "        return matrix\n",
    "def tour_sort(matrix):  \n",
    "    for i in range(len(matrix) // 2, -1, -1):\n",
    "        heapify(matrix, len(matrix), i)\n",
    "    for i in range(len(matrix) - 1, -1, -1):\n",
    "        if matrix[0] > matrix[i]:\n",
    "            matrix[0], matrix[i] = matrix[i], matrix[0]\n",
    "            heapify(matrix, i, 0)\n",
    "    print(\"Время работы турнирной сортировки: \", (time.time() - start)*1000)\n",
    "tour_sort(n_matrix)"
   ]
  },
  {
   "cell_type": "code",
   "execution_count": 26,
   "metadata": {},
   "outputs": [
    {
     "name": "stdout",
     "output_type": "stream",
     "text": [
      "Время работы быстрой сортировки:  0.0005955696105957031\n"
     ]
    }
   ],
   "source": [
    "import time\n",
    "n_matrix = generator()\n",
    "def quick_sort(matrix):\n",
    "    if len(matrix) <= 1:\n",
    "        return matrix\n",
    "    prop = matrix[0]\n",
    "    left = [i for i in matrix if i < prop]\n",
    "    center = [i for i in matrix if i == prop]\n",
    "    right = [i for i in matrix if i > prop]\n",
    "    final_matrix = quick_sort(left) + center + quick_sort(right)\n",
    "    return final_matrix\n",
    "q_start = time.time()\n",
    "quick_sort(n_matrix)\n",
    "finish = time.time()\n",
    "print(\"Время работы быстрой сортировки: \",finish-q_start)"
   ]
  },
  {
   "cell_type": "code",
   "execution_count": 27,
   "metadata": {},
   "outputs": [
    {
     "name": "stdout",
     "output_type": "stream",
     "text": [
      "Время работы пирамидальной сортировки:  0.6496906280517578\n"
     ]
    }
   ],
   "source": [
    "import time\n",
    "n_matrix = generator()\n",
    "start = time.time()\n",
    "def binary_heap(matrix, length, index):\n",
    "        largest = index\n",
    "        left = 2 * index + 1\n",
    "        right = 2 * index + 2\n",
    "        if left < length and matrix[index] < matrix[left]:\n",
    "            largest = left\n",
    "        if right < length and matrix[largest] < matrix[right]:\n",
    "            largest = right\n",
    "        if largest != index:\n",
    "            matrix[index], matrix[largest] = matrix[largest], matrix[index]\n",
    "            binary_heap(matrix, length, largest)\n",
    "def heap_sort(matrix):\n",
    "    length = len(matrix)\n",
    "    for index in range(length, -1, -1):\n",
    "        binary_heap(matrix, length, index)\n",
    "    for index in range(length -1, 0, -1):\n",
    "        matrix[index], matrix[0] = matrix[0], matrix[index]\n",
    "        binary_heap(matrix, index, 0)\n",
    "    print(\"Время работы пирамидальной сортировки: \", (time.time() - start)*1000)\n",
    "heap_sort(n_matrix)"
   ]
  },
  {
   "cell_type": "markdown",
   "metadata": {},
   "source": [
    "### Вывод: "
   ]
  },
  {
   "cell_type": "markdown",
   "metadata": {},
   "source": [
    "В данной лабораторной работе я сравнил время работы различных методов сортировки строк числовой матрицы. "
   ]
  }
 ],
 "metadata": {
  "kernelspec": {
   "display_name": "Python 3",
   "language": "python",
   "name": "python3"
  },
  "language_info": {
   "codemirror_mode": {
    "name": "ipython",
    "version": 3
   },
   "file_extension": ".py",
   "mimetype": "text/x-python",
   "name": "python",
   "nbconvert_exporter": "python",
   "pygments_lexer": "ipython3",
   "version": "3.6.13"
  }
 },
 "nbformat": 4,
 "nbformat_minor": 4
}
