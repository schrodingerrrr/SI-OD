{
 "cells": [
  {
   "cell_type": "markdown",
   "metadata": {},
   "source": [
    "# Лабораторная работа 4 \n",
    "\n",
    "## Выполнил студент группы БВТ1905 Максимов Данила Васильевич\n"
   ]
  },
  {
   "cell_type": "markdown",
   "metadata": {},
   "source": [
    "### Класс стека"
   ]
  },
  {
   "cell_type": "code",
   "execution_count": 111,
   "metadata": {},
   "outputs": [],
   "source": [
    "class Stack:\n",
    "    def __init__(self):\n",
    "        self.items = []\n",
    "\n",
    "    def isEmpty(self):\n",
    "        return self.items == []\n",
    "\n",
    "    def push(self, item):\n",
    "        self.items.append(item)\n",
    "\n",
    "    def pop(self):\n",
    "        return self.items.pop()\n",
    "    \n",
    "    def top(self):\n",
    "        return self.items[-1]\n",
    "    \n",
    "    def size(self):\n",
    "        return len(self.items)"
   ]
  },
  {
   "cell_type": "markdown",
   "metadata": {},
   "source": [
    "### Класс дека"
   ]
  },
  {
   "cell_type": "code",
   "execution_count": 86,
   "metadata": {},
   "outputs": [],
   "source": [
    "class Deque:\n",
    "    def __init__(self):\n",
    "        self.items = []\n",
    "        \n",
    "    def isEmpty(self):\n",
    "        return self.items == []\n",
    "\n",
    "    def pushLeft(self, item):\n",
    "        self.items.insert(0, item)\n",
    "\n",
    "    def pushRight(self, item):\n",
    "        self.items.append(item)\n",
    "        \n",
    "    def popLeft(self):\n",
    "        return self.items.pop(0)\n",
    "\n",
    "    def popRight(self):\n",
    "        return self.items.pop()\n",
    "    \n",
    "    def rotate(self):\n",
    "        self.items.insert(0, self.items.pop(len(self.items) - 1))\n",
    "    \n",
    "    def rotate_backwards(self):\n",
    "        self.items.append(self.items.pop(0))\n",
    "        \n",
    "    def top(self):\n",
    "        return self.items[-1]\n",
    "    \n",
    "    def bottom(self):\n",
    "        return self.items[0]\n",
    "    \n",
    "    def size(self):\n",
    "        return len(self.items)"
   ]
  },
  {
   "cell_type": "markdown",
   "metadata": {},
   "source": [
    "1. Отсортировать строки файла, содержащие названия книг, в алфавитном порядке с использованием двух деков."
   ]
  },
  {
   "cell_type": "code",
   "execution_count": 90,
   "metadata": {
    "scrolled": true
   },
   "outputs": [
    {
     "name": "stdout",
     "output_type": "stream",
     "text": [
      "['Harry potter\\n', 'The gift of the magi\\n', 'Sherlock holmes\\n', 'Don Quixote\\n', 'Lord of the Rings\\n', 'And Then There Were None\\n', \"Alice's Adventures in Wonderland\\n\"]\n",
      "Alice's Adventures in Wonderland\n",
      "And Then There Were None\n",
      "Don Quixote\n",
      "Harry potter\n",
      "Lord of the Rings\n",
      "Sherlock holmes\n",
      "The gift of the magi\n",
      "\n"
     ]
    }
   ],
   "source": [
    "first_deque = Deque()\n",
    "second_deque = Deque()\n",
    "strings = open(\"task1.txt\").readlines()\n",
    "strings[-1] += \"\\n\"\n",
    "print(strings)\n",
    "for i in range(len(strings)):\n",
    "    first_deque.pushRight(strings[i])\n",
    "second_deque.pushLeft(first_deque.popLeft())\n",
    "for i in range(len(strings) - 1):\n",
    "    k = 0\n",
    "    first_book = first_deque.popLeft()\n",
    "    flag = 0\n",
    "    for j in range(i + 1):\n",
    "        second_book = second_deque.popLeft()\n",
    "        if first_book < second_book:\n",
    "            second_deque.pushLeft(second_book)\n",
    "            second_deque.pushLeft(first_book)\n",
    "            flag = 1\n",
    "            break\n",
    "        else:\n",
    "            second_deque.pushLeft(second_book)\n",
    "            second_deque.rotate_backwards()\n",
    "            k += 1\n",
    "    if flag == 0:\n",
    "        second_deque.pushRight(first_book)\n",
    "    elif k == 0:\n",
    "        flag = 0\n",
    "    else:\n",
    "        for i in range(k):\n",
    "            second_deque.rotate()\n",
    "f = open(\"task1_output.txt\", \"w\")\n",
    "string = \"\"\n",
    "for i in range(second_deque.size()):\n",
    "    string += second_deque.items[i]\n",
    "f.write(string)\n",
    "f.close()\n",
    "print(string)"
   ]
  },
  {
   "cell_type": "markdown",
   "metadata": {},
   "source": [
    "2. Дек содержит последовательность символов для шифровки сообщений. Дан текстовый файл, содержащий зашифрованное сообщение. Пользуясь деком, расшифровать текст. Известно, что при шифровке каждый символ сообщения заменялся следующим за ним в деке по часовой стрелке через один"
   ]
  },
  {
   "cell_type": "code",
   "execution_count": 91,
   "metadata": {},
   "outputs": [
    {
     "name": "stdout",
     "output_type": "stream",
     "text": [
      "['a', 'b', 'c', 'd', 'e', 'f', 'g', 'h', 'i', 'j', 'k', 'l', 'm', 'n', 'o', 'p', 'q', 'r', 's', 't', 'u', 'v', 'w', 'x', 'y', 'z']\n",
      "intermediate\n"
     ]
    }
   ],
   "source": [
    "decoder = \"abcdefghijklmnopqrstuvwxyz\"\n",
    "deque = Deque()\n",
    "for i in range(len(decoder)):\n",
    "    deque.pushRight(decoder[i])\n",
    "print(deque.items)\n",
    "string = open(\"task2.txt\").readline()\n",
    "decoded = \"\"\n",
    "for i in range(len(string)):\n",
    "    for j in range(28):\n",
    "        roulette_letter = deque.popLeft()\n",
    "        if string[i] == roulette_letter:\n",
    "            deque.pushLeft(roulette_letter)\n",
    "            deque.rotate_backwards()\n",
    "            deque.rotate_backwards()\n",
    "            decoded_letter = deque.popLeft()\n",
    "            decoded += decoded_letter\n",
    "            deque.pushLeft(decoded_letter)\n",
    "            break\n",
    "        else:\n",
    "            deque.pushLeft(roulette_letter)\n",
    "            deque.rotate_backwards()\n",
    "\n",
    "f = open(\"task2_output.txt\", \"w\")\n",
    "f.write(decoded)\n",
    "f.close()\n",
    "print(decoded)\n",
    "            "
   ]
  },
  {
   "cell_type": "markdown",
   "metadata": {},
   "source": [
    "3. Даны три стержня и n дисков различного размера. Диски можно надевать на стержни, образуя из них башни. Перенести n дисков со стержня А на стержень С, сохранив их первоначальный порядок. При переносе дисков необходимо соблюдать следующие правила:\n",
    "- на каждом шаге со стержня на стержень переносить только один диск;\n",
    "- диск нельзя помещать на диск меньшего размера;\n",
    "- для промежуточного хранения можно использовать стержень В.\n",
    "\n",
    "  Реализовать алгоритм, используя три стека вместо стержней А, В, С. Информация о дисках хранится в исходном файле.\n"
   ]
  },
  {
   "cell_type": "code",
   "execution_count": 191,
   "metadata": {},
   "outputs": [],
   "source": [
    "def turn(stack1, stack2):\n",
    "    if stack1.isEmpty():\n",
    "        stack1.push(stack2.pop())\n",
    "        \n",
    "    elif stack2.isEmpty():\n",
    "        stack2.push(stack1.pop())\n",
    "    \n",
    "    elif stack1.top() < stack2.top():\n",
    "        stack2.push(stack1.pop())\n",
    "    \n",
    "    else:\n",
    "        stack1.push(stack2.pop())\n",
    "    \n",
    "    print(A.items)\n",
    "    print(B.items)\n",
    "    print(C.items)\n",
    "    print()\n",
    "\n",
    "def list_to_str(list1):\n",
    "    str1 = \"\"\n",
    "    for i in range(len(list1)):\n",
    "        str1 += str(list1[i]) + \"  \"\n",
    "    str1 += \"\\n\"\n",
    "    return str1\n",
    "\n",
    "def write_stack(f):\n",
    "    f.write(\"A - \" + list_to_str(A.items))\n",
    "    f.write(\"B - \" + list_to_str(B.items))\n",
    "    f.write(\"C - \" + list_to_str(C.items) + \"\\n\")"
   ]
  },
  {
   "cell_type": "code",
   "execution_count": 192,
   "metadata": {},
   "outputs": [
    {
     "name": "stdout",
     "output_type": "stream",
     "text": [
      "[5, 4, 3, 2]\n",
      "[]\n",
      "[1]\n",
      "\n",
      "[5, 4, 3]\n",
      "[2]\n",
      "[1]\n",
      "\n",
      "[5, 4, 3]\n",
      "[2, 1]\n",
      "[]\n",
      "\n",
      "[5, 4]\n",
      "[2, 1]\n",
      "[3]\n",
      "\n",
      "[5, 4, 1]\n",
      "[2]\n",
      "[3]\n",
      "\n",
      "[5, 4, 1]\n",
      "[]\n",
      "[3, 2]\n",
      "\n",
      "[5, 4]\n",
      "[]\n",
      "[3, 2, 1]\n",
      "\n",
      "[5]\n",
      "[4]\n",
      "[3, 2, 1]\n",
      "\n",
      "[5]\n",
      "[4, 1]\n",
      "[3, 2]\n",
      "\n",
      "[5, 2]\n",
      "[4, 1]\n",
      "[3]\n",
      "\n",
      "[5, 2, 1]\n",
      "[4]\n",
      "[3]\n",
      "\n",
      "[5, 2, 1]\n",
      "[4, 3]\n",
      "[]\n",
      "\n",
      "[5, 2]\n",
      "[4, 3]\n",
      "[1]\n",
      "\n",
      "[5]\n",
      "[4, 3, 2]\n",
      "[1]\n",
      "\n",
      "[5]\n",
      "[4, 3, 2, 1]\n",
      "[]\n",
      "\n",
      "[]\n",
      "[4, 3, 2, 1]\n",
      "[5]\n",
      "\n",
      "[1]\n",
      "[4, 3, 2]\n",
      "[5]\n",
      "\n",
      "[1]\n",
      "[4, 3]\n",
      "[5, 2]\n",
      "\n",
      "[]\n",
      "[4, 3]\n",
      "[5, 2, 1]\n",
      "\n",
      "[3]\n",
      "[4]\n",
      "[5, 2, 1]\n",
      "\n",
      "[3]\n",
      "[4, 1]\n",
      "[5, 2]\n",
      "\n",
      "[3, 2]\n",
      "[4, 1]\n",
      "[5]\n",
      "\n",
      "[3, 2, 1]\n",
      "[4]\n",
      "[5]\n",
      "\n",
      "[3, 2, 1]\n",
      "[]\n",
      "[5, 4]\n",
      "\n",
      "[3, 2]\n",
      "[]\n",
      "[5, 4, 1]\n",
      "\n",
      "[3]\n",
      "[2]\n",
      "[5, 4, 1]\n",
      "\n",
      "[3]\n",
      "[2, 1]\n",
      "[5, 4]\n",
      "\n",
      "[]\n",
      "[2, 1]\n",
      "[5, 4, 3]\n",
      "\n",
      "[1]\n",
      "[2]\n",
      "[5, 4, 3]\n",
      "\n",
      "[1]\n",
      "[]\n",
      "[5, 4, 3, 2]\n",
      "\n",
      "[]\n",
      "[]\n",
      "[5, 4, 3, 2, 1]\n",
      "\n"
     ]
    }
   ],
   "source": [
    "A = Stack()\n",
    "B = Stack()\n",
    "C = Stack()\n",
    "string = open(\"task3.txt\").readlines()\n",
    "n = int(string[0])\n",
    "for i in range(1, n+1):\n",
    "    A.push(int(string[i]))\n",
    "f = open(\"task3_output.txt\", \"w\")\n",
    "if n % 2 == 0:\n",
    "    while C.size() != n:\n",
    "        turn(A, B)\n",
    "        write_stack(f)\n",
    "        if C.size() == n:\n",
    "            break\n",
    "        turn(A, C)\n",
    "        write_stack(f)\n",
    "        if C.size() == n:\n",
    "            break\n",
    "        turn(B, C)\n",
    "        write_stack(f)\n",
    "else:\n",
    "    while C.size() != n:\n",
    "        turn(A, C)\n",
    "        write_stack(f)\n",
    "        if C.size() == n:\n",
    "            break\n",
    "        turn(A, B)\n",
    "        write_stack(f)\n",
    "        if C.size() == n:\n",
    "            break\n",
    "        turn(B, C)\n",
    "        write_stack(f)\n",
    "f.close()"
   ]
  },
  {
   "cell_type": "markdown",
   "metadata": {},
   "source": [
    "4. Дан текстовый файл с программой на алгоритмическом языке. За один просмотр файла проверить баланс круглых скобок в тексте, используя стек."
   ]
  },
  {
   "cell_type": "code",
   "execution_count": 160,
   "metadata": {},
   "outputs": [
    {
     "name": "stdout",
     "output_type": "stream",
     "text": [
      "Баланс соблюден\n"
     ]
    }
   ],
   "source": [
    "string = open(\"task4.txt\").readlines()\n",
    "str1 = ''.join(string)\n",
    "stack_4 = Stack()\n",
    "for i in range(len(str1)):\n",
    "    stack_4.push(str1[i])\n",
    "k = 0\n",
    "for i in range(len(str1)):\n",
    "    if k < 0:\n",
    "        break\n",
    "    if stack_4.top() == \"(\":\n",
    "        k += 1\n",
    "    if stack_4.top() == \")\":\n",
    "        k -= 1\n",
    "    stack_4.pop()\n",
    "f = open(\"task4_output.txt\", \"w\")\n",
    "if k == 0:\n",
    "    print(\"Баланс соблюден\")\n",
    "    f.write(\"Баланс соблюден\")\n",
    "else:\n",
    "    print(\"Баланс не соблюден\")\n",
    "    f.write(\"Баланс не соблюден\")\n",
    "f.close()"
   ]
  },
  {
   "cell_type": "markdown",
   "metadata": {},
   "source": [
    "5. Дан текстовый файл с программой на алгоритмическом языке. За один просмотр файла проверить баланс квадратных скобок в тексте, используя дек."
   ]
  },
  {
   "cell_type": "code",
   "execution_count": 165,
   "metadata": {},
   "outputs": [
    {
     "name": "stdout",
     "output_type": "stream",
     "text": [
      "Баланс соблюден\n"
     ]
    }
   ],
   "source": [
    "string = open(\"task5.txt\").readlines()\n",
    "str1 = ''.join(string)\n",
    "deque_5 = Deque()\n",
    "for i in range(len(str1)):\n",
    "    deque_5.pushLeft(str1[i])\n",
    "k = 0\n",
    "for i in range(len(str1)):\n",
    "    if k < 0:\n",
    "        break\n",
    "    if deque_5.top() == \"[\":\n",
    "        k += 1\n",
    "    if deque_5.top() == \"]\":\n",
    "        k -= 1\n",
    "    deque_5.popRight()\n",
    "f = open(\"task5_output.txt\", \"w\")\n",
    "if k == 0:\n",
    "    print(\"Баланс соблюден\")\n",
    "    f.write(\"Баланс соблюден\")\n",
    "else:\n",
    "    print(\"Баланс не соблюден\")\n",
    "    f.write(\"Баланс не соблюден\")\n",
    "f.close()"
   ]
  },
  {
   "cell_type": "markdown",
   "metadata": {},
   "source": [
    "6. Дан файл из символов. Используя стек, за один просмотр файла напечатать сначала все цифры, затем все буквы, и, наконец, все остальные символы, сохраняя исходный порядок в каждой группе символов.\n"
   ]
  },
  {
   "cell_type": "code",
   "execution_count": 177,
   "metadata": {
    "scrolled": true
   },
   "outputs": [
    {
     "name": "stdout",
     "output_type": "stream",
     "text": [
      "Hi, 4k player here who reported slahser. Slahser was our position 1 faceless void. He built a mek and had around 29 healing salves in his inventory. He would chrono both teams in the middle of a fight, salve his allies, pop mek, and proceeded to yell \"SLAHSER'S WAY\". We gave him position 1 farm so he could be a position 5.\n",
      "412915\n",
      "HikplayerherewhoreportedslahserSlahserwasourpositionfacelessvoidHebuiltamekandhadaroundhealingsalvesinhisinventoryHewouldchronobothteamsinthemiddleofafightsalvehisalliespopmekandproceededtoyellSLAHSERSWAYWegavehimpositionfarmsohecouldbeaposition\n",
      ",      .       .             .           ,   ,  ,     \"' \".             .\n"
     ]
    }
   ],
   "source": [
    "string = open(\"task6.txt\").readlines()\n",
    "str1 = ''.join(string)\n",
    "print(str1)\n",
    "stack_6 = Stack()\n",
    "for i in range(len(str1) - 1, -1, -1):\n",
    "    stack_6.push(str1[i])\n",
    "letters = \"\"\n",
    "numbers = \"\"\n",
    "others = \"\"\n",
    "for i in range(len(str1)):\n",
    "    if stack_6.top().isdigit():\n",
    "        numbers += stack_6.pop()\n",
    "    elif stack_6.top().isalpha():\n",
    "        letters += stack_6.pop()\n",
    "    else:\n",
    "        others += stack_6.pop()\n",
    "    if stack_6.isEmpty():\n",
    "        break\n",
    "print(numbers)\n",
    "print(letters)\n",
    "print(others)\n",
    "f = open(\"task6_output.txt\", \"w\")\n",
    "f.write(numbers + \"\\n\" + letters + \"\\n\" + others + \"\\n\")\n",
    "f.close()"
   ]
  },
  {
   "cell_type": "markdown",
   "metadata": {},
   "source": [
    "7. Дан файл из целых чисел. Используя дек, за один просмотр файла напечатать сначала все отрицательные числа, затем все положительные числа, сохраняя исходный порядок в каждой группе.\n"
   ]
  },
  {
   "cell_type": "code",
   "execution_count": 186,
   "metadata": {},
   "outputs": [
    {
     "name": "stdout",
     "output_type": "stream",
     "text": [
      "2 5 6 88 6 4 \n",
      "-6 \n"
     ]
    }
   ],
   "source": [
    "string = open(\"task7.txt\").readline()\n",
    "string = string.split(\" \")\n",
    "deque_7 = Deque()\n",
    "for i in range(len(string) - 1, -1, -1):\n",
    "    deque_7.pushRight(string[i])\n",
    "numbers_pos= \"\"\n",
    "numbers_neg= \"\"\n",
    "for i in range(len(string)):\n",
    "    if int(deque_7.top()) > 0:\n",
    "        numbers_pos += deque_7.popRight() + \" \"\n",
    "    else:\n",
    "        numbers_neg += deque_7.popRight() + \" \"\n",
    "print(numbers_pos)\n",
    "print(numbers_neg)\n",
    "f = open(\"task7_output.txt\", \"w\")\n",
    "f.write(numbers_pos + \"\\n\" + numbers_neg)\n",
    "f.close()"
   ]
  },
  {
   "cell_type": "markdown",
   "metadata": {},
   "source": [
    "8. Дан текстовый файл. Используя стек, сформировать новый текстовый файл, содержащий строки исходного файла, записанные в обратном порядке: первая строка становится последней, вторая – предпоследней и т.д.\n"
   ]
  },
  {
   "cell_type": "code",
   "execution_count": 199,
   "metadata": {},
   "outputs": [
    {
     "name": "stdout",
     "output_type": "stream",
     "text": [
      "hahahahaha\n",
      "jajajajja\n",
      "\n",
      "ayyyy\n",
      "\n",
      "lmaooooo\n",
      "\n",
      "xdddddd\n",
      "\n",
      "\n"
     ]
    }
   ],
   "source": [
    "string = open(\"task8.txt\").readlines()\n",
    "stack_8 = Stack()\n",
    "for i in range(len(string)):\n",
    "    stack_8.push(string[i])\n",
    "string_output = \"\"\n",
    "for i in range(len(string)):\n",
    "    string_output += stack_8.pop() + \"\\n\"\n",
    "print(string_output)\n",
    "f = open(\"task8_output.txt\", \"w\")\n",
    "f.write(string_output)\n",
    "f.close()"
   ]
  },
  {
   "cell_type": "markdown",
   "metadata": {},
   "source": [
    "9. Дан текстовый файл. Используя стек, вычислить значение логического выражения, записанного в текстовом файле в следующей форме: < ЛВ > ::= T | F | (N<ЛВ>) | (<ЛВ>A<ЛВ>) | (<ЛВ>X<ЛВ>) | (<ЛВ>O<ЛВ>), где буквами обозначены логические константы и операции: T – True, F – False, N – Not, A – And, X – Xor, O – Or.\n"
   ]
  },
  {
   "cell_type": "code",
   "execution_count": 220,
   "metadata": {},
   "outputs": [
    {
     "name": "stdout",
     "output_type": "stream",
     "text": [
      "True\n"
     ]
    }
   ],
   "source": [
    "def lv(stack):\n",
    "    if stack.top() == \"T\":\n",
    "        stack.pop()\n",
    "        return True\n",
    "    elif stack.top() == \"F\":\n",
    "        stack.pop()\n",
    "        return False\n",
    "    else:\n",
    "        stack.pop()\n",
    "        if stack.top() == \"N\":\n",
    "            stack.pop()\n",
    "            return not lv(stack)\n",
    "        else:\n",
    "            stack_left = Stack()\n",
    "            stack_left.push(stack.pop())\n",
    "            left = lv(stack_left)\n",
    "            operation = stack.pop()\n",
    "            stack_right = Stack()\n",
    "            stack_right.push(stack.pop())\n",
    "            right = lv(stack_right)\n",
    "            if operation == \"A\":\n",
    "                return left and right\n",
    "            elif operation == \"X\":\n",
    "                return left != right\n",
    "            else:\n",
    "                return left or right\n",
    "stack_9 = Stack()\n",
    "string = open(\"task9.txt\").readline()\n",
    "for i in range(len(string) - 1, -1, -1):\n",
    "    stack_9.push(string[i])\n",
    "x = stack_9.pop()\n",
    "stack_9.pop()\n",
    "stack_9.pop()\n",
    "stack_9.pop()\n",
    "y = lv(stack_9)\n",
    "print(y)\n",
    "f = open(\"task9_output.txt\", \"w\")\n",
    "f.write(str(y))\n",
    "f.close()"
   ]
  },
  {
   "cell_type": "markdown",
   "metadata": {},
   "source": [
    "10. Дан текстовый файл. В текстовом файле записана формула следующего вида:\n",
    "<Формула> ::= <Цифра> | M(<Формула>,<Формула>) | N(Формула>,<Формула>) < Цифра > ::= 0 | 1 | 2 | 3 | 4 | 5 | 6 | 7 | 8 | 9 где буквами обозначены функции:\n",
    "M – определение максимума, N – определение минимума.\n",
    "Используя стек, вычислить значение заданного выражения.\n"
   ]
  },
  {
   "cell_type": "code",
   "execution_count": 228,
   "metadata": {},
   "outputs": [
    {
     "name": "stdout",
     "output_type": "stream",
     "text": [
      "6\n"
     ]
    }
   ],
   "source": [
    "def formula(stack):\n",
    "    if stack.top().isdigit():\n",
    "        return stack.pop()\n",
    "    else:\n",
    "        operation = stack.pop()\n",
    "        stack.pop()\n",
    "        left = \"\"\n",
    "        while stack.top() != \",\":\n",
    "            left += stack.pop()\n",
    "        left_stack = Stack()\n",
    "        for i in range(len(left) - 1, -1, -1):\n",
    "            left_stack.push(left[i])\n",
    "        left = formula(left_stack)\n",
    "        stack.pop()\n",
    "        right = \"\"\n",
    "        while not stack.isEmpty():\n",
    "            right += stack.pop()\n",
    "        right_stack = Stack()\n",
    "        for i in range(len(right) - 1, -1, -1):\n",
    "            right_stack.push(right[i])\n",
    "        right = formula(right_stack)\n",
    "        if operation == \"M\":\n",
    "            return max(left, right)\n",
    "        else:\n",
    "            return min(left, right)\n",
    "\n",
    "stack_10 = Stack()\n",
    "string = open(\"task10.txt\").readline()\n",
    "for i in range(len(string) - 1, -1, -1):\n",
    "    stack_10.push(string[i])\n",
    "x = stack_10.pop()\n",
    "stack_10.pop()\n",
    "stack_10.pop()\n",
    "stack_10.pop()\n",
    "y = formula(stack_10)\n",
    "print(y)\n",
    "f = open(\"task10_output.txt\", \"w\")\n",
    "f.write(str(y))\n",
    "f.close()"
   ]
  },
  {
   "cell_type": "markdown",
   "metadata": {},
   "source": [
    "11. Дан текстовый файл. Используя стек, проверить, является ли содержимое текстового файла правильной записью формулы вида:\n",
    "< Формула > ::= < Терм > | < Терм > + < Формула > | < Терм > - < Формула >\n",
    "< Терм > ::= < Имя > | (< Формула >)\n",
    "< Имя > ::= x | y | z"
   ]
  },
  {
   "cell_type": "code",
   "execution_count": 241,
   "metadata": {},
   "outputs": [
    {
     "name": "stdout",
     "output_type": "stream",
     "text": [
      "True\n"
     ]
    }
   ],
   "source": [
    "def name(stack):\n",
    "    if stack.top() == \"x\" or stack.top() == \"y\" or stack.top() == \"z\":\n",
    "        return True\n",
    "    else: \n",
    "        return False\n",
    "    \n",
    "def term(stack):\n",
    "    if stack.isEmpty():\n",
    "        return False\n",
    "    if stack.top() == \"(\":\n",
    "        stack.pop()\n",
    "        return formula(stack)\n",
    "    else:\n",
    "        return name(stack)\n",
    "def formula(stack):\n",
    "    left = \"\"\n",
    "    while not stack.isEmpty() and stack.top() != \"+\" and stack.top() != \"-\":\n",
    "        left += stack.pop()\n",
    "    left_stack = Stack()\n",
    "    for i in range(len(left) - 1, -1, -1):\n",
    "        left_stack.push(left[i])\n",
    "    left = term(left_stack)\n",
    "    if stack.isEmpty():\n",
    "        return left\n",
    "    else:\n",
    "        stack.pop()\n",
    "        right = \"\"\n",
    "        while not stack.isEmpty():\n",
    "            right += stack.pop()\n",
    "        right_stack = Stack()\n",
    "        for i in range(len(right) - 1, -1, -1):\n",
    "            right_stack.push(right[i])\n",
    "        right = formula(right_stack)\n",
    "        if left and right:\n",
    "            return True\n",
    "        else:\n",
    "            return False\n",
    "        \n",
    "stack_11 = Stack()\n",
    "string = open(\"task11.txt\").readline()\n",
    "for i in range(len(string) - 1, -1, -1):\n",
    "    stack_11.push(string[i])\n",
    "x = stack_11.pop()\n",
    "stack_11.pop()\n",
    "stack_11.pop()\n",
    "stack_11.pop()\n",
    "y = formula(stack_11)\n",
    "print(y)\n",
    "f = open(\"task11_output.txt\", \"w\")\n",
    "f.write(str(y))\n",
    "f.close()"
   ]
  },
  {
   "cell_type": "markdown",
   "metadata": {},
   "source": [
    "### Вывод: "
   ]
  },
  {
   "cell_type": "markdown",
   "metadata": {},
   "source": [
    "В данной лабораторной работе я реализовал структуры данных \"стек\" и \"дек\", и при помощи них решил предоставленные задачи. "
   ]
  }
 ],
 "metadata": {
  "kernelspec": {
   "display_name": "Python 3",
   "language": "python",
   "name": "python3"
  },
  "language_info": {
   "codemirror_mode": {
    "name": "ipython",
    "version": 3
   },
   "file_extension": ".py",
   "mimetype": "text/x-python",
   "name": "python",
   "nbconvert_exporter": "python",
   "pygments_lexer": "ipython3",
   "version": "3.6.13"
  }
 },
 "nbformat": 4,
 "nbformat_minor": 4
}
